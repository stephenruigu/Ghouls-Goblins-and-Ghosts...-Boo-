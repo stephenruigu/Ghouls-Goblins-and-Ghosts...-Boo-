{
 "cells": [
  {
   "cell_type": "code",
   "execution_count": 17,
   "metadata": {},
   "outputs": [],
   "source": [
    "# load packages \n",
    "import pandas as pd\n",
    "import numpy as np\n",
    "# visualization packages\n",
    "import matplotlib.pyplot as plt\n",
    "import seaborn as sns\n",
    "from pandas.plotting import scatter_matrix\n",
    "%matplotlib inline\n",
    "# scikitlearn packages\n",
    "from sklearn.linear_model import LogisticRegression\n",
    "from sklearn.neighbors import KNeighborsClassifier\n",
    "from sklearn.tree import DecisionTreeClassifier\n",
    "from sklearn.svm import SVC\n",
    "# PERFORMANCE PARAMETERS\n",
    "from sklearn.metrics import confusion_matrix\n",
    "\n",
    "import warnings\n",
    "warnings.filterwarnings('ignore')"
   ]
  },
  {
   "cell_type": "code",
   "execution_count": 18,
   "metadata": {},
   "outputs": [
    {
     "data": {
      "text/html": [
       "<div>\n",
       "<style scoped>\n",
       "    .dataframe tbody tr th:only-of-type {\n",
       "        vertical-align: middle;\n",
       "    }\n",
       "\n",
       "    .dataframe tbody tr th {\n",
       "        vertical-align: top;\n",
       "    }\n",
       "\n",
       "    .dataframe thead th {\n",
       "        text-align: right;\n",
       "    }\n",
       "</style>\n",
       "<table border=\"1\" class=\"dataframe\">\n",
       "  <thead>\n",
       "    <tr style=\"text-align: right;\">\n",
       "      <th></th>\n",
       "      <th>id</th>\n",
       "      <th>bone_length</th>\n",
       "      <th>rotting_flesh</th>\n",
       "      <th>hair_length</th>\n",
       "      <th>has_soul</th>\n",
       "      <th>color</th>\n",
       "      <th>type</th>\n",
       "    </tr>\n",
       "  </thead>\n",
       "  <tbody>\n",
       "    <tr>\n",
       "      <th>0</th>\n",
       "      <td>0</td>\n",
       "      <td>0.354512</td>\n",
       "      <td>0.350839</td>\n",
       "      <td>0.465761</td>\n",
       "      <td>0.781142</td>\n",
       "      <td>clear</td>\n",
       "      <td>Ghoul</td>\n",
       "    </tr>\n",
       "    <tr>\n",
       "      <th>1</th>\n",
       "      <td>1</td>\n",
       "      <td>0.575560</td>\n",
       "      <td>0.425868</td>\n",
       "      <td>0.531401</td>\n",
       "      <td>0.439899</td>\n",
       "      <td>green</td>\n",
       "      <td>Goblin</td>\n",
       "    </tr>\n",
       "    <tr>\n",
       "      <th>2</th>\n",
       "      <td>2</td>\n",
       "      <td>0.467875</td>\n",
       "      <td>0.354330</td>\n",
       "      <td>0.811616</td>\n",
       "      <td>0.791225</td>\n",
       "      <td>black</td>\n",
       "      <td>Ghoul</td>\n",
       "    </tr>\n",
       "    <tr>\n",
       "      <th>3</th>\n",
       "      <td>4</td>\n",
       "      <td>0.776652</td>\n",
       "      <td>0.508723</td>\n",
       "      <td>0.636766</td>\n",
       "      <td>0.884464</td>\n",
       "      <td>black</td>\n",
       "      <td>Ghoul</td>\n",
       "    </tr>\n",
       "    <tr>\n",
       "      <th>4</th>\n",
       "      <td>5</td>\n",
       "      <td>0.566117</td>\n",
       "      <td>0.875862</td>\n",
       "      <td>0.418594</td>\n",
       "      <td>0.636438</td>\n",
       "      <td>green</td>\n",
       "      <td>Ghost</td>\n",
       "    </tr>\n",
       "  </tbody>\n",
       "</table>\n",
       "</div>"
      ],
      "text/plain": [
       "   id  bone_length  rotting_flesh  hair_length  has_soul  color    type\n",
       "0   0     0.354512       0.350839     0.465761  0.781142  clear   Ghoul\n",
       "1   1     0.575560       0.425868     0.531401  0.439899  green  Goblin\n",
       "2   2     0.467875       0.354330     0.811616  0.791225  black   Ghoul\n",
       "3   4     0.776652       0.508723     0.636766  0.884464  black   Ghoul\n",
       "4   5     0.566117       0.875862     0.418594  0.636438  green   Ghost"
      ]
     },
     "execution_count": 18,
     "metadata": {},
     "output_type": "execute_result"
    }
   ],
   "source": [
    "# load data\n",
    "train = pd.read_csv ('train.csv')\n",
    "test = pd.read_csv ('test.csv')\n",
    "train.head()"
   ]
  },
  {
   "cell_type": "code",
   "execution_count": 19,
   "metadata": {},
   "outputs": [
    {
     "data": {
      "text/plain": [
       "0"
      ]
     },
     "execution_count": 19,
     "metadata": {},
     "output_type": "execute_result"
    }
   ],
   "source": [
    "# missing values\n",
    "train.isnull().sum().sum()"
   ]
  },
  {
   "cell_type": "code",
   "execution_count": 20,
   "metadata": {},
   "outputs": [
    {
     "data": {
      "text/plain": [
       "<matplotlib.axes._subplots.AxesSubplot at 0x11fe43d5d30>"
      ]
     },
     "execution_count": 20,
     "metadata": {},
     "output_type": "execute_result"
    },
    {
     "data": {
      "image/png": "[encoded data removed]",
      "text/plain": [
       "<Figure size 432x288 with 1 Axes>"
      ]
     },
     "metadata": {
      "needs_background": "light"
     },
     "output_type": "display_data"
    }
   ],
   "source": [
    "# visualization\n",
    "sns.countplot(x='color', data=train) "
   ]
  },
  {
   "cell_type": "code",
   "execution_count": 21,
   "metadata": {},
   "outputs": [
    {
     "data": {
      "text/plain": [
       "<matplotlib.axes._subplots.AxesSubplot at 0x11fe4439ef0>"
      ]
     },
     "execution_count": 21,
     "metadata": {},
     "output_type": "execute_result"
    },
    {
     "data": {
      "image/png": "[encoded data removed]",
      "text/plain": [
       "<Figure size 432x288 with 1 Axes>"
      ]
     },
     "metadata": {
      "needs_background": "light"
     },
     "output_type": "display_data"
    }
   ],
   "source": [
    " sns.countplot(x='type', data=train)  # data is fairly balanced"
   ]
  },
  {
   "cell_type": "code",
   "execution_count": 22,
   "metadata": {},
   "outputs": [
    {
     "data": {
      "text/html": [
       "<div>\n",
       "<style scoped>\n",
       "    .dataframe tbody tr th:only-of-type {\n",
       "        vertical-align: middle;\n",
       "    }\n",
       "\n",
       "    .dataframe tbody tr th {\n",
       "        vertical-align: top;\n",
       "    }\n",
       "\n",
       "    .dataframe thead th {\n",
       "        text-align: right;\n",
       "    }\n",
       "</style>\n",
       "<table border=\"1\" class=\"dataframe\">\n",
       "  <thead>\n",
       "    <tr style=\"text-align: right;\">\n",
       "      <th></th>\n",
       "      <th>id</th>\n",
       "      <th>bone_length</th>\n",
       "      <th>rotting_flesh</th>\n",
       "      <th>hair_length</th>\n",
       "      <th>has_soul</th>\n",
       "      <th>color</th>\n",
       "      <th>type</th>\n",
       "    </tr>\n",
       "  </thead>\n",
       "  <tbody>\n",
       "    <tr>\n",
       "      <th>193</th>\n",
       "      <td>476</td>\n",
       "      <td>0.248854</td>\n",
       "      <td>0.554872</td>\n",
       "      <td>0.506320</td>\n",
       "      <td>0.089402</td>\n",
       "      <td>green</td>\n",
       "      <td>Ghost</td>\n",
       "    </tr>\n",
       "    <tr>\n",
       "      <th>99</th>\n",
       "      <td>222</td>\n",
       "      <td>0.313506</td>\n",
       "      <td>0.616803</td>\n",
       "      <td>0.396482</td>\n",
       "      <td>0.447946</td>\n",
       "      <td>blue</td>\n",
       "      <td>Ghost</td>\n",
       "    </tr>\n",
       "    <tr>\n",
       "      <th>47</th>\n",
       "      <td>94</td>\n",
       "      <td>0.268141</td>\n",
       "      <td>0.665224</td>\n",
       "      <td>0.234944</td>\n",
       "      <td>0.321623</td>\n",
       "      <td>clear</td>\n",
       "      <td>Ghost</td>\n",
       "    </tr>\n",
       "    <tr>\n",
       "      <th>369</th>\n",
       "      <td>896</td>\n",
       "      <td>0.294943</td>\n",
       "      <td>0.771286</td>\n",
       "      <td>0.583503</td>\n",
       "      <td>0.300618</td>\n",
       "      <td>clear</td>\n",
       "      <td>Ghost</td>\n",
       "    </tr>\n",
       "    <tr>\n",
       "      <th>184</th>\n",
       "      <td>454</td>\n",
       "      <td>0.571502</td>\n",
       "      <td>0.315792</td>\n",
       "      <td>0.765131</td>\n",
       "      <td>0.575139</td>\n",
       "      <td>clear</td>\n",
       "      <td>Goblin</td>\n",
       "    </tr>\n",
       "  </tbody>\n",
       "</table>\n",
       "</div>"
      ],
      "text/plain": [
       "      id  bone_length  rotting_flesh  hair_length  has_soul  color    type\n",
       "193  476     0.248854       0.554872     0.506320  0.089402  green   Ghost\n",
       "99   222     0.313506       0.616803     0.396482  0.447946   blue   Ghost\n",
       "47    94     0.268141       0.665224     0.234944  0.321623  clear   Ghost\n",
       "369  896     0.294943       0.771286     0.583503  0.300618  clear   Ghost\n",
       "184  454     0.571502       0.315792     0.765131  0.575139  clear  Goblin"
      ]
     },
     "execution_count": 22,
     "metadata": {},
     "output_type": "execute_result"
    }
   ],
   "source": [
    "# shuffle the datasets to randomized the \n",
    "train = train.sample(frac=1)\n",
    "train.head()"
   ]
  },
  {
   "cell_type": "code",
   "execution_count": 23,
   "metadata": {},
   "outputs": [
    {
     "data": {
      "text/html": [
       "<div>\n",
       "<style scoped>\n",
       "    .dataframe tbody tr th:only-of-type {\n",
       "        vertical-align: middle;\n",
       "    }\n",
       "\n",
       "    .dataframe tbody tr th {\n",
       "        vertical-align: top;\n",
       "    }\n",
       "\n",
       "    .dataframe thead th {\n",
       "        text-align: right;\n",
       "    }\n",
       "</style>\n",
       "<table border=\"1\" class=\"dataframe\">\n",
       "  <thead>\n",
       "    <tr style=\"text-align: right;\">\n",
       "      <th></th>\n",
       "      <th>bone_length</th>\n",
       "      <th>rotting_flesh</th>\n",
       "      <th>hair_length</th>\n",
       "      <th>has_soul</th>\n",
       "      <th>color</th>\n",
       "    </tr>\n",
       "  </thead>\n",
       "  <tbody>\n",
       "    <tr>\n",
       "      <th>193</th>\n",
       "      <td>0.248854</td>\n",
       "      <td>0.554872</td>\n",
       "      <td>0.506320</td>\n",
       "      <td>0.089402</td>\n",
       "      <td>green</td>\n",
       "    </tr>\n",
       "    <tr>\n",
       "      <th>99</th>\n",
       "      <td>0.313506</td>\n",
       "      <td>0.616803</td>\n",
       "      <td>0.396482</td>\n",
       "      <td>0.447946</td>\n",
       "      <td>blue</td>\n",
       "    </tr>\n",
       "    <tr>\n",
       "      <th>47</th>\n",
       "      <td>0.268141</td>\n",
       "      <td>0.665224</td>\n",
       "      <td>0.234944</td>\n",
       "      <td>0.321623</td>\n",
       "      <td>clear</td>\n",
       "    </tr>\n",
       "    <tr>\n",
       "      <th>369</th>\n",
       "      <td>0.294943</td>\n",
       "      <td>0.771286</td>\n",
       "      <td>0.583503</td>\n",
       "      <td>0.300618</td>\n",
       "      <td>clear</td>\n",
       "    </tr>\n",
       "    <tr>\n",
       "      <th>184</th>\n",
       "      <td>0.571502</td>\n",
       "      <td>0.315792</td>\n",
       "      <td>0.765131</td>\n",
       "      <td>0.575139</td>\n",
       "      <td>clear</td>\n",
       "    </tr>\n",
       "  </tbody>\n",
       "</table>\n",
       "</div>"
      ],
      "text/plain": [
       "     bone_length  rotting_flesh  hair_length  has_soul  color\n",
       "193     0.248854       0.554872     0.506320  0.089402  green\n",
       "99      0.313506       0.616803     0.396482  0.447946   blue\n",
       "47      0.268141       0.665224     0.234944  0.321623  clear\n",
       "369     0.294943       0.771286     0.583503  0.300618  clear\n",
       "184     0.571502       0.315792     0.765131  0.575139  clear"
      ]
     },
     "execution_count": 23,
     "metadata": {},
     "output_type": "execute_result"
    }
   ],
   "source": [
    "# feature selection\n",
    "y = train.type\n",
    "# drop irrelevant columns\n",
    "train = train.drop(['type','id'], axis=1)\n",
    "train.head()"
   ]
  },
  {
   "cell_type": "code",
   "execution_count": 24,
   "metadata": {},
   "outputs": [
    {
     "data": {
      "text/html": [
       "<div>\n",
       "<style scoped>\n",
       "    .dataframe tbody tr th:only-of-type {\n",
       "        vertical-align: middle;\n",
       "    }\n",
       "\n",
       "    .dataframe tbody tr th {\n",
       "        vertical-align: top;\n",
       "    }\n",
       "\n",
       "    .dataframe thead th {\n",
       "        text-align: right;\n",
       "    }\n",
       "</style>\n",
       "<table border=\"1\" class=\"dataframe\">\n",
       "  <thead>\n",
       "    <tr style=\"text-align: right;\">\n",
       "      <th></th>\n",
       "      <th>bone_length</th>\n",
       "      <th>rotting_flesh</th>\n",
       "      <th>hair_length</th>\n",
       "      <th>has_soul</th>\n",
       "    </tr>\n",
       "  </thead>\n",
       "  <tbody>\n",
       "    <tr>\n",
       "      <th>count</th>\n",
       "      <td>371.000000</td>\n",
       "      <td>371.000000</td>\n",
       "      <td>371.000000</td>\n",
       "      <td>371.000000</td>\n",
       "    </tr>\n",
       "    <tr>\n",
       "      <th>mean</th>\n",
       "      <td>0.434160</td>\n",
       "      <td>0.506848</td>\n",
       "      <td>0.529114</td>\n",
       "      <td>0.471392</td>\n",
       "    </tr>\n",
       "    <tr>\n",
       "      <th>std</th>\n",
       "      <td>0.132833</td>\n",
       "      <td>0.146358</td>\n",
       "      <td>0.169902</td>\n",
       "      <td>0.176129</td>\n",
       "    </tr>\n",
       "    <tr>\n",
       "      <th>min</th>\n",
       "      <td>0.061032</td>\n",
       "      <td>0.095687</td>\n",
       "      <td>0.134600</td>\n",
       "      <td>0.009402</td>\n",
       "    </tr>\n",
       "    <tr>\n",
       "      <th>25%</th>\n",
       "      <td>0.340006</td>\n",
       "      <td>0.414812</td>\n",
       "      <td>0.407428</td>\n",
       "      <td>0.348002</td>\n",
       "    </tr>\n",
       "    <tr>\n",
       "      <th>50%</th>\n",
       "      <td>0.434891</td>\n",
       "      <td>0.501552</td>\n",
       "      <td>0.538642</td>\n",
       "      <td>0.466372</td>\n",
       "    </tr>\n",
       "    <tr>\n",
       "      <th>75%</th>\n",
       "      <td>0.517223</td>\n",
       "      <td>0.603977</td>\n",
       "      <td>0.647244</td>\n",
       "      <td>0.600610</td>\n",
       "    </tr>\n",
       "    <tr>\n",
       "      <th>max</th>\n",
       "      <td>0.817001</td>\n",
       "      <td>0.932466</td>\n",
       "      <td>1.000000</td>\n",
       "      <td>0.935721</td>\n",
       "    </tr>\n",
       "  </tbody>\n",
       "</table>\n",
       "</div>"
      ],
      "text/plain": [
       "       bone_length  rotting_flesh  hair_length    has_soul\n",
       "count   371.000000     371.000000   371.000000  371.000000\n",
       "mean      0.434160       0.506848     0.529114    0.471392\n",
       "std       0.132833       0.146358     0.169902    0.176129\n",
       "min       0.061032       0.095687     0.134600    0.009402\n",
       "25%       0.340006       0.414812     0.407428    0.348002\n",
       "50%       0.434891       0.501552     0.538642    0.466372\n",
       "75%       0.517223       0.603977     0.647244    0.600610\n",
       "max       0.817001       0.932466     1.000000    0.935721"
      ]
     },
     "execution_count": 24,
     "metadata": {},
     "output_type": "execute_result"
    }
   ],
   "source": [
    "train.describe()"
   ]
  },
  {
   "cell_type": "code",
   "execution_count": 25,
   "metadata": {},
   "outputs": [
    {
     "data": {
      "image/png": "[encoded data removed]",
      "text/plain": [
       "<Figure size 432x288 with 16 Axes>"
      ]
     },
     "metadata": {
      "needs_background": "light"
     },
     "output_type": "display_data"
    }
   ],
   "source": [
    "# scatter plot matrix\n",
    "scatter_matrix(train)\n",
    "plt.show() # dataset is fairly normalized "
   ]
  },
  {
   "cell_type": "code",
   "execution_count": 26,
   "metadata": {},
   "outputs": [
    {
     "data": {
      "text/html": [
       "<div>\n",
       "<style scoped>\n",
       "    .dataframe tbody tr th:only-of-type {\n",
       "        vertical-align: middle;\n",
       "    }\n",
       "\n",
       "    .dataframe tbody tr th {\n",
       "        vertical-align: top;\n",
       "    }\n",
       "\n",
       "    .dataframe thead th {\n",
       "        text-align: right;\n",
       "    }\n",
       "</style>\n",
       "<table border=\"1\" class=\"dataframe\">\n",
       "  <thead>\n",
       "    <tr style=\"text-align: right;\">\n",
       "      <th></th>\n",
       "      <th>bone_length</th>\n",
       "      <th>rotting_flesh</th>\n",
       "      <th>hair_length</th>\n",
       "      <th>has_soul</th>\n",
       "      <th>color_blood</th>\n",
       "      <th>color_blue</th>\n",
       "      <th>color_clear</th>\n",
       "      <th>color_green</th>\n",
       "      <th>color_white</th>\n",
       "    </tr>\n",
       "  </thead>\n",
       "  <tbody>\n",
       "    <tr>\n",
       "      <th>193</th>\n",
       "      <td>0.248854</td>\n",
       "      <td>0.554872</td>\n",
       "      <td>0.506320</td>\n",
       "      <td>0.089402</td>\n",
       "      <td>0</td>\n",
       "      <td>0</td>\n",
       "      <td>0</td>\n",
       "      <td>1</td>\n",
       "      <td>0</td>\n",
       "    </tr>\n",
       "    <tr>\n",
       "      <th>99</th>\n",
       "      <td>0.313506</td>\n",
       "      <td>0.616803</td>\n",
       "      <td>0.396482</td>\n",
       "      <td>0.447946</td>\n",
       "      <td>0</td>\n",
       "      <td>1</td>\n",
       "      <td>0</td>\n",
       "      <td>0</td>\n",
       "      <td>0</td>\n",
       "    </tr>\n",
       "    <tr>\n",
       "      <th>47</th>\n",
       "      <td>0.268141</td>\n",
       "      <td>0.665224</td>\n",
       "      <td>0.234944</td>\n",
       "      <td>0.321623</td>\n",
       "      <td>0</td>\n",
       "      <td>0</td>\n",
       "      <td>1</td>\n",
       "      <td>0</td>\n",
       "      <td>0</td>\n",
       "    </tr>\n",
       "    <tr>\n",
       "      <th>369</th>\n",
       "      <td>0.294943</td>\n",
       "      <td>0.771286</td>\n",
       "      <td>0.583503</td>\n",
       "      <td>0.300618</td>\n",
       "      <td>0</td>\n",
       "      <td>0</td>\n",
       "      <td>1</td>\n",
       "      <td>0</td>\n",
       "      <td>0</td>\n",
       "    </tr>\n",
       "    <tr>\n",
       "      <th>184</th>\n",
       "      <td>0.571502</td>\n",
       "      <td>0.315792</td>\n",
       "      <td>0.765131</td>\n",
       "      <td>0.575139</td>\n",
       "      <td>0</td>\n",
       "      <td>0</td>\n",
       "      <td>1</td>\n",
       "      <td>0</td>\n",
       "      <td>0</td>\n",
       "    </tr>\n",
       "  </tbody>\n",
       "</table>\n",
       "</div>"
      ],
      "text/plain": [
       "     bone_length  rotting_flesh  hair_length  has_soul  color_blood  \\\n",
       "193     0.248854       0.554872     0.506320  0.089402            0   \n",
       "99      0.313506       0.616803     0.396482  0.447946            0   \n",
       "47      0.268141       0.665224     0.234944  0.321623            0   \n",
       "369     0.294943       0.771286     0.583503  0.300618            0   \n",
       "184     0.571502       0.315792     0.765131  0.575139            0   \n",
       "\n",
       "     color_blue  color_clear  color_green  color_white  \n",
       "193           0            0            1            0  \n",
       "99            1            0            0            0  \n",
       "47            0            1            0            0  \n",
       "369           0            1            0            0  \n",
       "184           0            1            0            0  "
      ]
     },
     "execution_count": 26,
     "metadata": {},
     "output_type": "execute_result"
    }
   ],
   "source": [
    "# one hot encoding\n",
    "train = pd.get_dummies(train, prefix_sep='_', drop_first=True)\n",
    "train.head()"
   ]
  },
  {
   "cell_type": "code",
   "execution_count": 27,
   "metadata": {},
   "outputs": [
    {
     "data": {
      "text/plain": [
       "array([0, 0, 0, 0, 2, 1, 2, 0, 1, 2, 2, 1, 0, 1, 1, 0, 0, 2, 2, 2, 0, 0,\n",
       "       2, 2, 2, 1, 0, 0, 1, 0, 1, 0, 0, 1, 0, 1, 2, 1, 1, 1, 1, 2, 0, 0,\n",
       "       2, 2, 2, 0, 0, 0, 2, 2, 1, 2, 2, 1, 0, 0, 1, 0, 1, 2, 1, 0, 2, 2,\n",
       "       2, 2, 2, 0, 1, 2, 1, 2, 0, 1, 0, 1, 1, 1, 2, 2, 0, 0, 1, 2, 0, 1,\n",
       "       0, 1, 0, 0, 1, 1, 2, 1, 1, 1, 0, 2, 0, 0, 2, 0, 1, 0, 1, 0, 0, 2,\n",
       "       1, 2, 2, 0, 0, 1, 1, 0, 2, 2, 2, 1, 2, 2, 0, 0, 0, 2, 1, 0, 1, 1,\n",
       "       0, 0, 0, 1, 0, 0, 1, 0, 1, 2, 1, 2, 0, 1, 1, 0, 1, 1, 1, 0, 1, 0,\n",
       "       1, 2, 1, 2, 1, 2, 1, 0, 2, 1, 1, 0, 1, 0, 0, 0, 1, 2, 1, 1, 0, 1,\n",
       "       1, 2, 1, 0, 0, 0, 0, 0, 1, 2, 1, 2, 0, 2, 2, 2, 1, 1, 1, 1, 2, 2,\n",
       "       2, 1, 1, 2, 2, 0, 0, 2, 1, 0, 1, 0, 2, 2, 0, 2, 0, 1, 1, 0, 1, 1,\n",
       "       2, 2, 2, 1, 2, 1, 1, 2, 2, 1, 2, 2, 1, 2, 1, 1, 0, 0, 0, 0, 2, 2,\n",
       "       1, 2, 0, 2, 2, 2, 0, 0, 2, 1, 2, 1, 1, 0, 1, 2, 1, 0, 1, 1, 0, 2,\n",
       "       1, 2, 1, 0, 0, 2, 1, 2, 0, 2, 2, 0, 2, 1, 1, 2, 0, 2, 1, 0, 0, 0,\n",
       "       2, 2, 1, 0, 1, 2, 2, 0, 2, 1, 0, 2, 2, 0, 2, 1, 2, 1, 2, 1, 2, 1,\n",
       "       2, 1, 2, 0, 1, 2, 0, 2, 0, 1, 2, 0, 2, 1, 1, 1, 1, 2, 1, 2, 1, 2,\n",
       "       0, 1, 2, 2, 2, 1, 1, 2, 0, 2, 2, 1, 2, 0, 0, 1, 2, 1, 1, 0, 0, 2,\n",
       "       1, 0, 0, 2, 0, 1, 2, 0, 0, 1, 1, 0, 1, 0, 2, 2, 1, 2, 0])"
      ]
     },
     "execution_count": 27,
     "metadata": {},
     "output_type": "execute_result"
    }
   ],
   "source": [
    " # label encoder for the outputs\n",
    "from sklearn.preprocessing import LabelEncoder\n",
    "\n",
    "le_y = LabelEncoder()\n",
    "le_y = le_y.fit(y)\n",
    "\n",
    "y = le_y.transform(y)\n",
    "y"
   ]
  },
  {
   "cell_type": "code",
   "execution_count": 28,
   "metadata": {},
   "outputs": [
    {
     "name": "stdout",
     "output_type": "stream",
     "text": [
      "0.2962173598095872\n"
     ]
    }
   ],
   "source": [
    "# adjusted r-squared\n",
    "# import statsmodels. formula.api\n",
    "import statsmodels.formula.api as smf\n",
    "# regression formular\n",
    "model = smf.ols(formula='y ~  bone_length + rotting_flesh + hair_length + has_soul + color_blood + color_blue + color_clear + color_green + color_white', data=train)\n",
    "# fit the regression\n",
    "model_fit = model.fit()\n",
    "# extract and readjust r-squared\n",
    "regression_adj_rsq = model_fit.rsquared_adj\n",
    "print(regression_adj_rsq)"
   ]
  },
  {
   "cell_type": "code",
   "execution_count": 29,
   "metadata": {},
   "outputs": [],
   "source": [
    "# no ensembling techniques\n",
    "# desicion tree\n",
    "\n",
    "from sklearn.model_selection import train_test_split\n",
    "X_train, X_test, y_train, y_test = train_test_split(train, y, test_size=.1, random_state=42)"
   ]
  },
  {
   "cell_type": "code",
   "execution_count": 30,
   "metadata": {},
   "outputs": [],
   "source": [
    "from sklearn import tree\n",
    "clf = tree.DecisionTreeClassifier(random_state=42)\n",
    "clf.fit(X_train,y_train)\n",
    "\n",
    "y_pred = clf.predict(X_test)"
   ]
  },
  {
   "cell_type": "code",
   "execution_count": 31,
   "metadata": {},
   "outputs": [],
   "source": [
    "from sklearn.metrics import accuracy_score\n",
    "# performance\n",
    "trees= accuracy_score(y_test,y_pred)"
   ]
  },
  {
   "cell_type": "code",
   "execution_count": 32,
   "metadata": {},
   "outputs": [],
   "source": [
    "# logistic regression\n",
    "from sklearn.linear_model import LogisticRegression\n",
    "lr = LogisticRegression(random_state=42)\n",
    "lr.fit(X_train,y_train)\n",
    "\n",
    "# performance\n",
    "y_pred= lr.predict(X_test)\n",
    "# performance\n",
    "log =accuracy_score(y_test,y_pred)"
   ]
  },
  {
   "cell_type": "code",
   "execution_count": 33,
   "metadata": {},
   "outputs": [],
   "source": [
    "# KNN\n",
    "from sklearn.neighbors import KNeighborsClassifier\n",
    "knn = KNeighborsClassifier()\n",
    "\n",
    "knn.fit(X_train,y_train)\n",
    "\n",
    "# perofrmance\n",
    "y_pred = knn.predict(X_test)\n",
    "# performance\n",
    "knn = accuracy_score(y_test,y_pred)"
   ]
  },
  {
   "cell_type": "code",
   "execution_count": 34,
   "metadata": {},
   "outputs": [],
   "source": [
    "# naive bayes\n",
    "from sklearn.naive_bayes import GaussianNB\n",
    "\n",
    "gnb = GaussianNB()\n",
    "gnb.fit(X_train,y_train)\n",
    "\n",
    "# perofrmance\n",
    "y_pred = gnb.predict(X_test)\n",
    "# performance\n",
    "bayes = accuracy_score(y_test,y_pred)"
   ]
  },
  {
   "cell_type": "code",
   "execution_count": 35,
   "metadata": {},
   "outputs": [
    {
     "data": {
      "image/png": "[encoded data removed]",
      "text/plain": [
       "<Figure size 1152x432 with 1 Axes>"
      ]
     },
     "metadata": {
      "needs_background": "light"
     },
     "output_type": "display_data"
    }
   ],
   "source": [
    "plt.figure(figsize=(16, 6))\n",
    "s = sns.barplot(x=[\"Naive Bayes\", \"Logistic Regression\",\"KNN\",\"Decision Trees\"], y=[bayes,knn,log,trees],color=\"seagreen\")\n",
    "for p in s.patches:\n",
    "    s.annotate(format(p.get_height(), '.2f'), \n",
    "              (p.get_x() + p.get_width() / 2., \n",
    "\n",
    "               p.get_height()), ha = 'center', va = 'center', \n",
    "              xytext = (0, 10), textcoords = 'offset points')"
   ]
  },
  {
   "cell_type": "code",
   "execution_count": 36,
   "metadata": {},
   "outputs": [],
   "source": [
    "# ensemble models\n",
    "# BAGGING\n",
    "from sklearn.model_selection import GridSearchCV\n",
    "from sklearn.ensemble import RandomForestClassifier\n",
    "\n",
    "clf = RandomForestClassifier(max_features='auto',criterion='entropy', class_weight='balanced')\n",
    "\n",
    "grid = {\"n_estimators\":[1,200],\"max_depth\":[1,200]}\n",
    "\n",
    "clf_cv = GridSearchCV(clf,grid,cv=5)\n",
    "clf_cv.fit(X_train,y_train)\n",
    "\n",
    "clf_cv.best_params_\n",
    "\n",
    "\n",
    "\n",
    "clf = accuracy_score(y_test,y_pred)"
   ]
  },
  {
   "cell_type": "code",
   "execution_count": 37,
   "metadata": {},
   "outputs": [],
   "source": [
    "# BOOSTING\n",
    "from sklearn.ensemble import GradientBoostingClassifier\n",
    "\n",
    "gbc = GradientBoostingClassifier(n_estimators=10, learning_rate=1.0, max_depth=3)\n",
    "gbc.fit(X_train, y_train)\n",
    "y_pred = gbc.predict(X_test)\n",
    "\n",
    "gbc =accuracy_score(y_test,y_pred)"
   ]
  },
  {
   "cell_type": "code",
   "execution_count": 38,
   "metadata": {},
   "outputs": [],
   "source": [
    "# stacking\n",
    "from mlxtend.classifier import StackingClassifier\n",
    "knn = KNeighborsClassifier(n_neighbors=4)\n",
    "lr = LogisticRegression()\n",
    "gnb = GaussianNB()\n",
    "\n",
    "sclf = StackingClassifier(classifiers=[knn,lr,gnb], meta_classifier=gnb)\n",
    "sclf.fit(X_train,y_train)\n",
    "y_pred = sclf.predict(X_test)\n",
    "\n",
    "sclf = accuracy_score(y_test,y_pred)"
   ]
  },
  {
   "cell_type": "code",
   "execution_count": 39,
   "metadata": {},
   "outputs": [
    {
     "data": {
      "image/png": "[encoded data removed]",
      "text/plain": [
       "<Figure size 1152x432 with 1 Axes>"
      ]
     },
     "metadata": {
      "needs_background": "light"
     },
     "output_type": "display_data"
    }
   ],
   "source": [
    "plt.figure(figsize=(16, 6))\n",
    "s = sns.barplot(x=[\"Random Forest Classifier\",\"Gradient Boosting\",\"Stacking\"], y=[clf,gbc,sclf],color=\"maroon\")\n",
    "for p in s.patches:\n",
    "    s.annotate(format(p.get_height(), '.2f'), \n",
    "              (p.get_x() + p.get_width() / 2., \n",
    "\n",
    "               p.get_height()), ha = 'center', va = 'center', \n",
    "              xytext = (0, 10), textcoords = 'offset points')"
   ]
  }
 ],
 "metadata": {
  "kernelspec": {
   "display_name": "Python 3",
   "language": "python",
   "name": "python3"
  },
  "language_info": {
   "codemirror_mode": {
    "name": "ipython",
    "version": 3
   },
   "file_extension": ".py",
   "mimetype": "text/x-python",
   "name": "python",
   "nbconvert_exporter": "python",
   "pygments_lexer": "ipython3",
   "version": "3.7.3"
  }
 },
 "nbformat": 4,
 "nbformat_minor": 2
}
